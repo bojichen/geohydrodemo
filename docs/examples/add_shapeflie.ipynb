{
 "cells": [
  {
   "cell_type": "code",
   "execution_count": null,
   "id": "c0b8fb2f-40f8-4754-9a73-54f89afc9db5",
   "metadata": {
    "scrolled": true
   },
   "outputs": [],
   "source": [
    "import geohydrodemo"
   ]
  },
  {
   "cell_type": "code",
   "execution_count": null,
   "id": "1ba88b00-62a2-4e2e-b0ae-c62c786b7f50",
   "metadata": {},
   "outputs": [],
   "source": [
    "m = geohydrodemo.Map()"
   ]
  },
  {
   "cell_type": "code",
   "execution_count": null,
   "id": "1af8244d-c0aa-4943-8f8e-7c03562283a8",
   "metadata": {},
   "outputs": [],
   "source": [
    "m"
   ]
  },
  {
   "cell_type": "code",
   "execution_count": null,
   "id": "6968ee59-1f97-435c-8340-0140ab996fd2",
   "metadata": {},
   "outputs": [],
   "source": [
    "in_shp = './../../exaamples/data/countries.shp'"
   ]
  },
  {
   "cell_type": "code",
   "execution_count": null,
   "id": "03570f1a-5cb3-4c2f-9ad1-8dd53c0e4d5d",
   "metadata": {},
   "outputs": [],
   "source": [
    "style = {\n",
    "                \"stroke\": True,\n",
    "                'color' : '#ff0000',\n",
    "                'weight': 2,\n",
    "                'opacity': 1,\n",
    "                'fill': True,\n",
    "                'fillColor':'#0000ff',\n",
    "                'fillOpacity':0.4,\n",
    "            }"
   ]
  },
  {
   "cell_type": "code",
   "execution_count": null,
   "id": "9a83f61d-e0b4-4c2d-952d-5f3f6724ecba",
   "metadata": {},
   "outputs": [],
   "source": [
    "m.add_shapefile(in_shp,layer_name = 'shapefile', style=style)"
   ]
  },
  {
   "cell_type": "code",
   "execution_count": null,
   "id": "93449a3b-a646-4a6b-887f-965560fca76f",
   "metadata": {},
   "outputs": [],
   "source": []
  }
 ],
 "metadata": {
  "kernelspec": {
   "display_name": "Python 3 (ipykernel)",
   "language": "python",
   "name": "python3"
  },
  "language_info": {
   "codemirror_mode": {
    "name": "ipython",
    "version": 3
   },
   "file_extension": ".py",
   "mimetype": "text/x-python",
   "name": "python",
   "nbconvert_exporter": "python",
   "pygments_lexer": "ipython3",
   "version": "3.10.12"
  }
 },
 "nbformat": 4,
 "nbformat_minor": 5
}
