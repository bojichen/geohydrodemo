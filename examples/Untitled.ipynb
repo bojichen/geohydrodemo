{
 "cells": [
  {
   "cell_type": "code",
   "execution_count": 1,
   "id": "6751d46d-c2c1-4515-a70f-1001387510b3",
   "metadata": {},
   "outputs": [],
   "source": [
    "import geohydrodemo"
   ]
  },
  {
   "cell_type": "code",
   "execution_count": 2,
   "id": "b4938f9a-7f45-4b2d-b0d5-c333ac57b61b",
   "metadata": {},
   "outputs": [],
   "source": [
    "m = geohydrodemo.Map()"
   ]
  },
  {
   "cell_type": "code",
   "execution_count": 3,
   "id": "ab2fdaeb-6f08-44fd-9816-2c52264012ab",
   "metadata": {},
   "outputs": [
    {
     "data": {
      "application/vnd.jupyter.widget-view+json": {
       "model_id": "584f79b4d24f41c9af7128ab50210d40",
       "version_major": 2,
       "version_minor": 0
      },
      "text/plain": [
       "Map(center=[40, -100], controls=(ZoomControl(options=['position', 'zoom_in_text', 'zoom_in_title', 'zoom_out_t…"
      ]
     },
     "execution_count": 3,
     "metadata": {},
     "output_type": "execute_result"
    }
   ],
   "source": [
    "m"
   ]
  },
  {
   "cell_type": "code",
   "execution_count": 4,
   "id": "d96cb3b9-b6c5-4057-a4bd-bc2b2f3d77f4",
   "metadata": {},
   "outputs": [],
   "source": [
    "m.add_geojson('./data/countries.json')"
   ]
  },
  {
   "cell_type": "code",
   "execution_count": null,
   "id": "f86348de-5945-4371-956b-8bf849e2e9d1",
   "metadata": {},
   "outputs": [],
   "source": []
  }
 ],
 "metadata": {
  "kernelspec": {
   "display_name": "Python 3 (ipykernel)",
   "language": "python",
   "name": "python3"
  },
  "language_info": {
   "codemirror_mode": {
    "name": "ipython",
    "version": 3
   },
   "file_extension": ".py",
   "mimetype": "text/x-python",
   "name": "python",
   "nbconvert_exporter": "python",
   "pygments_lexer": "ipython3",
   "version": "3.10.12"
  }
 },
 "nbformat": 4,
 "nbformat_minor": 5
}
