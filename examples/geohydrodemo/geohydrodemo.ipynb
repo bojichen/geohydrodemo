{
 "cells": [
  {
   "cell_type": "code",
   "execution_count": 1,
   "id": "5de7b789-69ec-4a5d-9db8-57f030bca29e",
   "metadata": {},
   "outputs": [],
   "source": [
    "from geohydrodemo import Map"
   ]
  },
  {
   "cell_type": "code",
   "execution_count": 2,
   "id": "4423954f-f9bf-49b5-ab38-3d62e07f1a40",
   "metadata": {},
   "outputs": [],
   "source": [
    "m = Map()"
   ]
  },
  {
   "cell_type": "code",
   "execution_count": 3,
   "id": "734653d8-a0f8-4345-ae93-961ae5cdb726",
   "metadata": {},
   "outputs": [
    {
     "data": {
      "application/vnd.jupyter.widget-view+json": {
       "model_id": "d25d9c6307354f5daf95a1bc60e24905",
       "version_major": 2,
       "version_minor": 0
      },
      "text/plain": [
       "Map(center=[40, -100], controls=(ZoomControl(options=['position', 'zoom_in_text', 'zoom_in_title', 'zoom_out_t…"
      ]
     },
     "execution_count": 3,
     "metadata": {},
     "output_type": "execute_result"
    }
   ],
   "source": [
    "m"
   ]
  },
  {
   "cell_type": "code",
   "execution_count": null,
   "id": "1165a76e-b481-40b8-9d42-ce433cb13a25",
   "metadata": {},
   "outputs": [],
   "source": []
  }
 ],
 "metadata": {
  "kernelspec": {
   "display_name": "Python 3 (ipykernel)",
   "language": "python",
   "name": "python3"
  },
  "language_info": {
   "codemirror_mode": {
    "name": "ipython",
    "version": 3
   },
   "file_extension": ".py",
   "mimetype": "text/x-python",
   "name": "python",
   "nbconvert_exporter": "python",
   "pygments_lexer": "ipython3",
   "version": "3.10.12"
  }
 },
 "nbformat": 4,
 "nbformat_minor": 5
}
